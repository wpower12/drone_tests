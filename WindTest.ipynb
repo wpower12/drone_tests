{
 "cells": [
  {
   "cell_type": "markdown",
   "metadata": {},
   "source": [
    "## New Wind Method\n",
    "Need to try implementing the new wind method, where we project the set of drones onto a wind vector.\n",
    "\n",
    "I think I should start by getting some simple illustrations of a set of drones. These can be fixed in location, and then I can randomly select and display a wind vector, then display the projection. "
   ]
  },
  {
   "cell_type": "code",
   "execution_count": 42,
   "metadata": {},
   "outputs": [
    {
     "data": {
      "image/png": "[encoded data removed]",
      "text/plain": [
       "<Figure size 432x288 with 1 Axes>"
      ]
     },
     "metadata": {
      "needs_background": "light"
     },
     "output_type": "display_data"
    }
   ],
   "source": [
    "import numpy as np\n",
    "import matplotlib.pyplot as plt\n",
    "\n",
    "fig = plt.figure()\n",
    "plt.ylim(0,2.5)\n",
    "plt.xlim(0,2.5)\n",
    "plt.gca().set_aspect('equal', adjustable='box')\n",
    "\n",
    "drone_x      = [1, 1, 2, 2]\n",
    "drone_y      = [1, 2, 1, 2]\n",
    "drone_labels = ['A', 'B', 'C', 'D']\n",
    "\n",
    "drone_scatter = plt.scatter(drone_x, drone_y)\n",
    "\n",
    "for i in range(4):\n",
    "    plt.text(drone_x[i]+0.025, drone_y[i]+0.025, drone_labels[i])\n",
    "    \n",
    "wind = np.asarray([0.5, 0.5])\n",
    "\n",
    "plt.quiver(0,0, wind[0], wind[1], angles='xy', scale_units='xy', scale=1)\n",
    "plt.text(wind[0]+0.05, wind[1]-0.05, 'W')\n",
    "plt.show()\n"
   ]
  },
  {
   "cell_type": "markdown",
   "metadata": {},
   "source": [
    "This works! We have 4 drones, and can move the wind vector around."
   ]
  },
  {
   "cell_type": "code",
   "execution_count": 48,
   "metadata": {},
   "outputs": [
    {
     "name": "stdout",
     "output_type": "stream",
     "text": [
      "[-1.  -1.5 -1.5 -2. ]\n"
     ]
    }
   ],
   "source": [
    "drones = np.asarray([[drone_x[i], drone_y[i]] for i in range(4)])\n",
    "projections = np.dot(drones, -1*wind)\n",
    "\n",
    "print(projections)"
   ]
  },
  {
   "cell_type": "markdown",
   "metadata": {},
   "source": [
    "Great! Now to just figure out a quick way to turn that a vector of scaling factors. Want to make sure that there is a 'minimum' scaling factor. The 'closest' projection gets 100% of the wind, or a scaling factor of 1. If we have some minimum, say 50%, or 0.5, then we want all the other drones 'in between' to have scaling factors between 1 and 0.5."
   ]
  },
  {
   "cell_type": "code",
   "execution_count": 53,
   "metadata": {},
   "outputs": [
    {
     "name": "stdout",
     "output_type": "stream",
     "text": [
      "[['A', 1.0], ['B', 0.75], ['C', 0.75], ['D', 0.5]]\n"
     ]
    }
   ],
   "source": [
    "max_scaling = 1.0\n",
    "min_scaling = 0.5\n",
    "scale_range = max_scaling - min_scaling\n",
    "\n",
    "max_proj   = projections.max()\n",
    "min_proj   = projections.min()\n",
    "proj_range = max_proj - min_proj\n",
    "\n",
    "# NewValue = (((OldValue - OldMin) * NewRange) / OldRange) + NewMin\n",
    "# Thanks SO. \n",
    "scaling_factors = [((p - min_proj)*scale_range/proj_range)+min_scaling for p in projections]\n",
    "labels_and_factors = [[drone_labels[i], scaling_factors[i]] for i in range(4)]\n",
    "\n",
    "print(labels_and_factors)"
   ]
  },
  {
   "cell_type": "code",
   "execution_count": null,
   "metadata": {},
   "outputs": [],
   "source": []
  }
 ],
 "metadata": {
  "kernelspec": {
   "display_name": "Python 3",
   "language": "python",
   "name": "python3"
  },
  "language_info": {
   "codemirror_mode": {
    "name": "ipython",
    "version": 3
   },
   "file_extension": ".py",
   "mimetype": "text/x-python",
   "name": "python",
   "nbconvert_exporter": "python",
   "pygments_lexer": "ipython3",
   "version": "3.7.0"
  }
 },
 "nbformat": 4,
 "nbformat_minor": 2
}
